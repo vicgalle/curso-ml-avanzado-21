{
  "nbformat": 4,
  "nbformat_minor": 0,
  "metadata": {
    "kernelspec": {
      "display_name": "Python 3",
      "language": "python",
      "name": "python3"
    },
    "language_info": {
      "codemirror_mode": {
        "name": "ipython",
        "version": 3
      },
      "file_extension": ".py",
      "mimetype": "text/x-python",
      "name": "python",
      "nbconvert_exporter": "python",
      "pygments_lexer": "ipython3",
      "version": "3.8.11"
    },
    "colab": {
      "name": "2_Redes_neuronales_en_pytorch.ipynb",
      "provenance": [],
      "collapsed_sections": []
    },
    "accelerator": "GPU",
    "widgets": {
      "application/vnd.jupyter.widget-state+json": {
        "dfbbf7cff0fb41d0a13344c0f766487c": {
          "model_module": "@jupyter-widgets/controls",
          "model_name": "HBoxModel",
          "model_module_version": "1.5.0",
          "state": {
            "_view_name": "HBoxView",
            "_dom_classes": [],
            "_model_name": "HBoxModel",
            "_view_module": "@jupyter-widgets/controls",
            "_model_module_version": "1.5.0",
            "_view_count": null,
            "_view_module_version": "1.5.0",
            "box_style": "",
            "layout": "IPY_MODEL_531c9e5fc7f644ceb2f084d8a5072d9e",
            "_model_module": "@jupyter-widgets/controls",
            "children": [
              "IPY_MODEL_11a3d55e2c524ce7975f73abf265b606",
              "IPY_MODEL_1c9942938e1b46df82a4400a0b571c22",
              "IPY_MODEL_6fb0a5ad1e9c44f6aef4807c58c711da"
            ]
          }
        },
        "531c9e5fc7f644ceb2f084d8a5072d9e": {
          "model_module": "@jupyter-widgets/base",
          "model_name": "LayoutModel",
          "model_module_version": "1.2.0",
          "state": {
            "_view_name": "LayoutView",
            "grid_template_rows": null,
            "right": null,
            "justify_content": null,
            "_view_module": "@jupyter-widgets/base",
            "overflow": null,
            "_model_module_version": "1.2.0",
            "_view_count": null,
            "flex_flow": null,
            "width": null,
            "min_width": null,
            "border": null,
            "align_items": null,
            "bottom": null,
            "_model_module": "@jupyter-widgets/base",
            "top": null,
            "grid_column": null,
            "overflow_y": null,
            "overflow_x": null,
            "grid_auto_flow": null,
            "grid_area": null,
            "grid_template_columns": null,
            "flex": null,
            "_model_name": "LayoutModel",
            "justify_items": null,
            "grid_row": null,
            "max_height": null,
            "align_content": null,
            "visibility": null,
            "align_self": null,
            "height": null,
            "min_height": null,
            "padding": null,
            "grid_auto_rows": null,
            "grid_gap": null,
            "max_width": null,
            "order": null,
            "_view_module_version": "1.2.0",
            "grid_template_areas": null,
            "object_position": null,
            "object_fit": null,
            "grid_auto_columns": null,
            "margin": null,
            "display": null,
            "left": null
          }
        },
        "11a3d55e2c524ce7975f73abf265b606": {
          "model_module": "@jupyter-widgets/controls",
          "model_name": "HTMLModel",
          "model_module_version": "1.5.0",
          "state": {
            "_view_name": "HTMLView",
            "style": "IPY_MODEL_9aca69ad674b46c5a05af824d7be8880",
            "_dom_classes": [],
            "description": "",
            "_model_name": "HTMLModel",
            "placeholder": "​",
            "_view_module": "@jupyter-widgets/controls",
            "_model_module_version": "1.5.0",
            "value": "",
            "_view_count": null,
            "_view_module_version": "1.5.0",
            "description_tooltip": null,
            "_model_module": "@jupyter-widgets/controls",
            "layout": "IPY_MODEL_f05098343905439aaa35eca39b557277"
          }
        },
        "1c9942938e1b46df82a4400a0b571c22": {
          "model_module": "@jupyter-widgets/controls",
          "model_name": "FloatProgressModel",
          "model_module_version": "1.5.0",
          "state": {
            "_view_name": "ProgressView",
            "style": "IPY_MODEL_6a86f11acfc44299be333be4597162c3",
            "_dom_classes": [],
            "description": "",
            "_model_name": "FloatProgressModel",
            "bar_style": "success",
            "max": 9912422,
            "_view_module": "@jupyter-widgets/controls",
            "_model_module_version": "1.5.0",
            "value": 9912422,
            "_view_count": null,
            "_view_module_version": "1.5.0",
            "orientation": "horizontal",
            "min": 0,
            "description_tooltip": null,
            "_model_module": "@jupyter-widgets/controls",
            "layout": "IPY_MODEL_209344fb0f0f4425b76d58ee6a37ede5"
          }
        },
        "6fb0a5ad1e9c44f6aef4807c58c711da": {
          "model_module": "@jupyter-widgets/controls",
          "model_name": "HTMLModel",
          "model_module_version": "1.5.0",
          "state": {
            "_view_name": "HTMLView",
            "style": "IPY_MODEL_a3a547743f184ebb977740a6a8631faf",
            "_dom_classes": [],
            "description": "",
            "_model_name": "HTMLModel",
            "placeholder": "​",
            "_view_module": "@jupyter-widgets/controls",
            "_model_module_version": "1.5.0",
            "value": " 9913344/? [00:00&lt;00:00, 47222720.92it/s]",
            "_view_count": null,
            "_view_module_version": "1.5.0",
            "description_tooltip": null,
            "_model_module": "@jupyter-widgets/controls",
            "layout": "IPY_MODEL_d734f047991748378e34aa18ec20cc49"
          }
        },
        "9aca69ad674b46c5a05af824d7be8880": {
          "model_module": "@jupyter-widgets/controls",
          "model_name": "DescriptionStyleModel",
          "model_module_version": "1.5.0",
          "state": {
            "_view_name": "StyleView",
            "_model_name": "DescriptionStyleModel",
            "description_width": "",
            "_view_module": "@jupyter-widgets/base",
            "_model_module_version": "1.5.0",
            "_view_count": null,
            "_view_module_version": "1.2.0",
            "_model_module": "@jupyter-widgets/controls"
          }
        },
        "f05098343905439aaa35eca39b557277": {
          "model_module": "@jupyter-widgets/base",
          "model_name": "LayoutModel",
          "model_module_version": "1.2.0",
          "state": {
            "_view_name": "LayoutView",
            "grid_template_rows": null,
            "right": null,
            "justify_content": null,
            "_view_module": "@jupyter-widgets/base",
            "overflow": null,
            "_model_module_version": "1.2.0",
            "_view_count": null,
            "flex_flow": null,
            "width": null,
            "min_width": null,
            "border": null,
            "align_items": null,
            "bottom": null,
            "_model_module": "@jupyter-widgets/base",
            "top": null,
            "grid_column": null,
            "overflow_y": null,
            "overflow_x": null,
            "grid_auto_flow": null,
            "grid_area": null,
            "grid_template_columns": null,
            "flex": null,
            "_model_name": "LayoutModel",
            "justify_items": null,
            "grid_row": null,
            "max_height": null,
            "align_content": null,
            "visibility": null,
            "align_self": null,
            "height": null,
            "min_height": null,
            "padding": null,
            "grid_auto_rows": null,
            "grid_gap": null,
            "max_width": null,
            "order": null,
            "_view_module_version": "1.2.0",
            "grid_template_areas": null,
            "object_position": null,
            "object_fit": null,
            "grid_auto_columns": null,
            "margin": null,
            "display": null,
            "left": null
          }
        },
        "6a86f11acfc44299be333be4597162c3": {
          "model_module": "@jupyter-widgets/controls",
          "model_name": "ProgressStyleModel",
          "model_module_version": "1.5.0",
          "state": {
            "_view_name": "StyleView",
            "_model_name": "ProgressStyleModel",
            "description_width": "",
            "_view_module": "@jupyter-widgets/base",
            "_model_module_version": "1.5.0",
            "_view_count": null,
            "_view_module_version": "1.2.0",
            "bar_color": null,
            "_model_module": "@jupyter-widgets/controls"
          }
        },
        "209344fb0f0f4425b76d58ee6a37ede5": {
          "model_module": "@jupyter-widgets/base",
          "model_name": "LayoutModel",
          "model_module_version": "1.2.0",
          "state": {
            "_view_name": "LayoutView",
            "grid_template_rows": null,
            "right": null,
            "justify_content": null,
            "_view_module": "@jupyter-widgets/base",
            "overflow": null,
            "_model_module_version": "1.2.0",
            "_view_count": null,
            "flex_flow": null,
            "width": null,
            "min_width": null,
            "border": null,
            "align_items": null,
            "bottom": null,
            "_model_module": "@jupyter-widgets/base",
            "top": null,
            "grid_column": null,
            "overflow_y": null,
            "overflow_x": null,
            "grid_auto_flow": null,
            "grid_area": null,
            "grid_template_columns": null,
            "flex": null,
            "_model_name": "LayoutModel",
            "justify_items": null,
            "grid_row": null,
            "max_height": null,
            "align_content": null,
            "visibility": null,
            "align_self": null,
            "height": null,
            "min_height": null,
            "padding": null,
            "grid_auto_rows": null,
            "grid_gap": null,
            "max_width": null,
            "order": null,
            "_view_module_version": "1.2.0",
            "grid_template_areas": null,
            "object_position": null,
            "object_fit": null,
            "grid_auto_columns": null,
            "margin": null,
            "display": null,
            "left": null
          }
        },
        "a3a547743f184ebb977740a6a8631faf": {
          "model_module": "@jupyter-widgets/controls",
          "model_name": "DescriptionStyleModel",
          "model_module_version": "1.5.0",
          "state": {
            "_view_name": "StyleView",
            "_model_name": "DescriptionStyleModel",
            "description_width": "",
            "_view_module": "@jupyter-widgets/base",
            "_model_module_version": "1.5.0",
            "_view_count": null,
            "_view_module_version": "1.2.0",
            "_model_module": "@jupyter-widgets/controls"
          }
        },
        "d734f047991748378e34aa18ec20cc49": {
          "model_module": "@jupyter-widgets/base",
          "model_name": "LayoutModel",
          "model_module_version": "1.2.0",
          "state": {
            "_view_name": "LayoutView",
            "grid_template_rows": null,
            "right": null,
            "justify_content": null,
            "_view_module": "@jupyter-widgets/base",
            "overflow": null,
            "_model_module_version": "1.2.0",
            "_view_count": null,
            "flex_flow": null,
            "width": null,
            "min_width": null,
            "border": null,
            "align_items": null,
            "bottom": null,
            "_model_module": "@jupyter-widgets/base",
            "top": null,
            "grid_column": null,
            "overflow_y": null,
            "overflow_x": null,
            "grid_auto_flow": null,
            "grid_area": null,
            "grid_template_columns": null,
            "flex": null,
            "_model_name": "LayoutModel",
            "justify_items": null,
            "grid_row": null,
            "max_height": null,
            "align_content": null,
            "visibility": null,
            "align_self": null,
            "height": null,
            "min_height": null,
            "padding": null,
            "grid_auto_rows": null,
            "grid_gap": null,
            "max_width": null,
            "order": null,
            "_view_module_version": "1.2.0",
            "grid_template_areas": null,
            "object_position": null,
            "object_fit": null,
            "grid_auto_columns": null,
            "margin": null,
            "display": null,
            "left": null
          }
        },
        "74f076d8b4674da9b377beed6977d476": {
          "model_module": "@jupyter-widgets/controls",
          "model_name": "HBoxModel",
          "model_module_version": "1.5.0",
          "state": {
            "_view_name": "HBoxView",
            "_dom_classes": [],
            "_model_name": "HBoxModel",
            "_view_module": "@jupyter-widgets/controls",
            "_model_module_version": "1.5.0",
            "_view_count": null,
            "_view_module_version": "1.5.0",
            "box_style": "",
            "layout": "IPY_MODEL_392f0d0913ec4030b472f05d9da44d5a",
            "_model_module": "@jupyter-widgets/controls",
            "children": [
              "IPY_MODEL_df6eb97fc0964afdbc003155363189a5",
              "IPY_MODEL_aabbe302ff2548dcbd962a4245b01fcc",
              "IPY_MODEL_876fa5cf488b49b4b47908e5f7a5c4e8"
            ]
          }
        },
        "392f0d0913ec4030b472f05d9da44d5a": {
          "model_module": "@jupyter-widgets/base",
          "model_name": "LayoutModel",
          "model_module_version": "1.2.0",
          "state": {
            "_view_name": "LayoutView",
            "grid_template_rows": null,
            "right": null,
            "justify_content": null,
            "_view_module": "@jupyter-widgets/base",
            "overflow": null,
            "_model_module_version": "1.2.0",
            "_view_count": null,
            "flex_flow": null,
            "width": null,
            "min_width": null,
            "border": null,
            "align_items": null,
            "bottom": null,
            "_model_module": "@jupyter-widgets/base",
            "top": null,
            "grid_column": null,
            "overflow_y": null,
            "overflow_x": null,
            "grid_auto_flow": null,
            "grid_area": null,
            "grid_template_columns": null,
            "flex": null,
            "_model_name": "LayoutModel",
            "justify_items": null,
            "grid_row": null,
            "max_height": null,
            "align_content": null,
            "visibility": null,
            "align_self": null,
            "height": null,
            "min_height": null,
            "padding": null,
            "grid_auto_rows": null,
            "grid_gap": null,
            "max_width": null,
            "order": null,
            "_view_module_version": "1.2.0",
            "grid_template_areas": null,
            "object_position": null,
            "object_fit": null,
            "grid_auto_columns": null,
            "margin": null,
            "display": null,
            "left": null
          }
        },
        "df6eb97fc0964afdbc003155363189a5": {
          "model_module": "@jupyter-widgets/controls",
          "model_name": "HTMLModel",
          "model_module_version": "1.5.0",
          "state": {
            "_view_name": "HTMLView",
            "style": "IPY_MODEL_d5d45b2c34074b648ecd10e3ba814640",
            "_dom_classes": [],
            "description": "",
            "_model_name": "HTMLModel",
            "placeholder": "​",
            "_view_module": "@jupyter-widgets/controls",
            "_model_module_version": "1.5.0",
            "value": "",
            "_view_count": null,
            "_view_module_version": "1.5.0",
            "description_tooltip": null,
            "_model_module": "@jupyter-widgets/controls",
            "layout": "IPY_MODEL_8dd8c20f84a840ccb4b679089e56fe00"
          }
        },
        "aabbe302ff2548dcbd962a4245b01fcc": {
          "model_module": "@jupyter-widgets/controls",
          "model_name": "FloatProgressModel",
          "model_module_version": "1.5.0",
          "state": {
            "_view_name": "ProgressView",
            "style": "IPY_MODEL_58b759f42cca4deabcec44307f63258c",
            "_dom_classes": [],
            "description": "",
            "_model_name": "FloatProgressModel",
            "bar_style": "success",
            "max": 28881,
            "_view_module": "@jupyter-widgets/controls",
            "_model_module_version": "1.5.0",
            "value": 28881,
            "_view_count": null,
            "_view_module_version": "1.5.0",
            "orientation": "horizontal",
            "min": 0,
            "description_tooltip": null,
            "_model_module": "@jupyter-widgets/controls",
            "layout": "IPY_MODEL_8abe4b7fe63f4faf932ac81fa1eda85b"
          }
        },
        "876fa5cf488b49b4b47908e5f7a5c4e8": {
          "model_module": "@jupyter-widgets/controls",
          "model_name": "HTMLModel",
          "model_module_version": "1.5.0",
          "state": {
            "_view_name": "HTMLView",
            "style": "IPY_MODEL_dcf68e69060c4b48ae2ec7baf71a0ecc",
            "_dom_classes": [],
            "description": "",
            "_model_name": "HTMLModel",
            "placeholder": "​",
            "_view_module": "@jupyter-widgets/controls",
            "_model_module_version": "1.5.0",
            "value": " 29696/? [00:00&lt;00:00, 714284.37it/s]",
            "_view_count": null,
            "_view_module_version": "1.5.0",
            "description_tooltip": null,
            "_model_module": "@jupyter-widgets/controls",
            "layout": "IPY_MODEL_d67cf9cd4ebd4f3c830dad84574a9466"
          }
        },
        "d5d45b2c34074b648ecd10e3ba814640": {
          "model_module": "@jupyter-widgets/controls",
          "model_name": "DescriptionStyleModel",
          "model_module_version": "1.5.0",
          "state": {
            "_view_name": "StyleView",
            "_model_name": "DescriptionStyleModel",
            "description_width": "",
            "_view_module": "@jupyter-widgets/base",
            "_model_module_version": "1.5.0",
            "_view_count": null,
            "_view_module_version": "1.2.0",
            "_model_module": "@jupyter-widgets/controls"
          }
        },
        "8dd8c20f84a840ccb4b679089e56fe00": {
          "model_module": "@jupyter-widgets/base",
          "model_name": "LayoutModel",
          "model_module_version": "1.2.0",
          "state": {
            "_view_name": "LayoutView",
            "grid_template_rows": null,
            "right": null,
            "justify_content": null,
            "_view_module": "@jupyter-widgets/base",
            "overflow": null,
            "_model_module_version": "1.2.0",
            "_view_count": null,
            "flex_flow": null,
            "width": null,
            "min_width": null,
            "border": null,
            "align_items": null,
            "bottom": null,
            "_model_module": "@jupyter-widgets/base",
            "top": null,
            "grid_column": null,
            "overflow_y": null,
            "overflow_x": null,
            "grid_auto_flow": null,
            "grid_area": null,
            "grid_template_columns": null,
            "flex": null,
            "_model_name": "LayoutModel",
            "justify_items": null,
            "grid_row": null,
            "max_height": null,
            "align_content": null,
            "visibility": null,
            "align_self": null,
            "height": null,
            "min_height": null,
            "padding": null,
            "grid_auto_rows": null,
            "grid_gap": null,
            "max_width": null,
            "order": null,
            "_view_module_version": "1.2.0",
            "grid_template_areas": null,
            "object_position": null,
            "object_fit": null,
            "grid_auto_columns": null,
            "margin": null,
            "display": null,
            "left": null
          }
        },
        "58b759f42cca4deabcec44307f63258c": {
          "model_module": "@jupyter-widgets/controls",
          "model_name": "ProgressStyleModel",
          "model_module_version": "1.5.0",
          "state": {
            "_view_name": "StyleView",
            "_model_name": "ProgressStyleModel",
            "description_width": "",
            "_view_module": "@jupyter-widgets/base",
            "_model_module_version": "1.5.0",
            "_view_count": null,
            "_view_module_version": "1.2.0",
            "bar_color": null,
            "_model_module": "@jupyter-widgets/controls"
          }
        },
        "8abe4b7fe63f4faf932ac81fa1eda85b": {
          "model_module": "@jupyter-widgets/base",
          "model_name": "LayoutModel",
          "model_module_version": "1.2.0",
          "state": {
            "_view_name": "LayoutView",
            "grid_template_rows": null,
            "right": null,
            "justify_content": null,
            "_view_module": "@jupyter-widgets/base",
            "overflow": null,
            "_model_module_version": "1.2.0",
            "_view_count": null,
            "flex_flow": null,
            "width": null,
            "min_width": null,
            "border": null,
            "align_items": null,
            "bottom": null,
            "_model_module": "@jupyter-widgets/base",
            "top": null,
            "grid_column": null,
            "overflow_y": null,
            "overflow_x": null,
            "grid_auto_flow": null,
            "grid_area": null,
            "grid_template_columns": null,
            "flex": null,
            "_model_name": "LayoutModel",
            "justify_items": null,
            "grid_row": null,
            "max_height": null,
            "align_content": null,
            "visibility": null,
            "align_self": null,
            "height": null,
            "min_height": null,
            "padding": null,
            "grid_auto_rows": null,
            "grid_gap": null,
            "max_width": null,
            "order": null,
            "_view_module_version": "1.2.0",
            "grid_template_areas": null,
            "object_position": null,
            "object_fit": null,
            "grid_auto_columns": null,
            "margin": null,
            "display": null,
            "left": null
          }
        },
        "dcf68e69060c4b48ae2ec7baf71a0ecc": {
          "model_module": "@jupyter-widgets/controls",
          "model_name": "DescriptionStyleModel",
          "model_module_version": "1.5.0",
          "state": {
            "_view_name": "StyleView",
            "_model_name": "DescriptionStyleModel",
            "description_width": "",
            "_view_module": "@jupyter-widgets/base",
            "_model_module_version": "1.5.0",
            "_view_count": null,
            "_view_module_version": "1.2.0",
            "_model_module": "@jupyter-widgets/controls"
          }
        },
        "d67cf9cd4ebd4f3c830dad84574a9466": {
          "model_module": "@jupyter-widgets/base",
          "model_name": "LayoutModel",
          "model_module_version": "1.2.0",
          "state": {
            "_view_name": "LayoutView",
            "grid_template_rows": null,
            "right": null,
            "justify_content": null,
            "_view_module": "@jupyter-widgets/base",
            "overflow": null,
            "_model_module_version": "1.2.0",
            "_view_count": null,
            "flex_flow": null,
            "width": null,
            "min_width": null,
            "border": null,
            "align_items": null,
            "bottom": null,
            "_model_module": "@jupyter-widgets/base",
            "top": null,
            "grid_column": null,
            "overflow_y": null,
            "overflow_x": null,
            "grid_auto_flow": null,
            "grid_area": null,
            "grid_template_columns": null,
            "flex": null,
            "_model_name": "LayoutModel",
            "justify_items": null,
            "grid_row": null,
            "max_height": null,
            "align_content": null,
            "visibility": null,
            "align_self": null,
            "height": null,
            "min_height": null,
            "padding": null,
            "grid_auto_rows": null,
            "grid_gap": null,
            "max_width": null,
            "order": null,
            "_view_module_version": "1.2.0",
            "grid_template_areas": null,
            "object_position": null,
            "object_fit": null,
            "grid_auto_columns": null,
            "margin": null,
            "display": null,
            "left": null
          }
        },
        "7f1b38fa015d4fc2a2db4afe4dda5a65": {
          "model_module": "@jupyter-widgets/controls",
          "model_name": "HBoxModel",
          "model_module_version": "1.5.0",
          "state": {
            "_view_name": "HBoxView",
            "_dom_classes": [],
            "_model_name": "HBoxModel",
            "_view_module": "@jupyter-widgets/controls",
            "_model_module_version": "1.5.0",
            "_view_count": null,
            "_view_module_version": "1.5.0",
            "box_style": "",
            "layout": "IPY_MODEL_a1ee4d23e70444d2b52b0101361f8318",
            "_model_module": "@jupyter-widgets/controls",
            "children": [
              "IPY_MODEL_e5d6ada5a8b74664aefe062125518ceb",
              "IPY_MODEL_3ca89e3a0e4442b6b81189bc72214f58",
              "IPY_MODEL_349847edf52a45f09613633b519e1b34"
            ]
          }
        },
        "a1ee4d23e70444d2b52b0101361f8318": {
          "model_module": "@jupyter-widgets/base",
          "model_name": "LayoutModel",
          "model_module_version": "1.2.0",
          "state": {
            "_view_name": "LayoutView",
            "grid_template_rows": null,
            "right": null,
            "justify_content": null,
            "_view_module": "@jupyter-widgets/base",
            "overflow": null,
            "_model_module_version": "1.2.0",
            "_view_count": null,
            "flex_flow": null,
            "width": null,
            "min_width": null,
            "border": null,
            "align_items": null,
            "bottom": null,
            "_model_module": "@jupyter-widgets/base",
            "top": null,
            "grid_column": null,
            "overflow_y": null,
            "overflow_x": null,
            "grid_auto_flow": null,
            "grid_area": null,
            "grid_template_columns": null,
            "flex": null,
            "_model_name": "LayoutModel",
            "justify_items": null,
            "grid_row": null,
            "max_height": null,
            "align_content": null,
            "visibility": null,
            "align_self": null,
            "height": null,
            "min_height": null,
            "padding": null,
            "grid_auto_rows": null,
            "grid_gap": null,
            "max_width": null,
            "order": null,
            "_view_module_version": "1.2.0",
            "grid_template_areas": null,
            "object_position": null,
            "object_fit": null,
            "grid_auto_columns": null,
            "margin": null,
            "display": null,
            "left": null
          }
        },
        "e5d6ada5a8b74664aefe062125518ceb": {
          "model_module": "@jupyter-widgets/controls",
          "model_name": "HTMLModel",
          "model_module_version": "1.5.0",
          "state": {
            "_view_name": "HTMLView",
            "style": "IPY_MODEL_9155718819524a0f828505c22c81a5c2",
            "_dom_classes": [],
            "description": "",
            "_model_name": "HTMLModel",
            "placeholder": "​",
            "_view_module": "@jupyter-widgets/controls",
            "_model_module_version": "1.5.0",
            "value": "",
            "_view_count": null,
            "_view_module_version": "1.5.0",
            "description_tooltip": null,
            "_model_module": "@jupyter-widgets/controls",
            "layout": "IPY_MODEL_d1688a42960e45909190d78eec1e5a55"
          }
        },
        "3ca89e3a0e4442b6b81189bc72214f58": {
          "model_module": "@jupyter-widgets/controls",
          "model_name": "FloatProgressModel",
          "model_module_version": "1.5.0",
          "state": {
            "_view_name": "ProgressView",
            "style": "IPY_MODEL_aa0a5fe9b5364ae7ba5c3270d02cb7ed",
            "_dom_classes": [],
            "description": "",
            "_model_name": "FloatProgressModel",
            "bar_style": "success",
            "max": 1648877,
            "_view_module": "@jupyter-widgets/controls",
            "_model_module_version": "1.5.0",
            "value": 1648877,
            "_view_count": null,
            "_view_module_version": "1.5.0",
            "orientation": "horizontal",
            "min": 0,
            "description_tooltip": null,
            "_model_module": "@jupyter-widgets/controls",
            "layout": "IPY_MODEL_d9fd57e427ca47a98eb97191cd6651fa"
          }
        },
        "349847edf52a45f09613633b519e1b34": {
          "model_module": "@jupyter-widgets/controls",
          "model_name": "HTMLModel",
          "model_module_version": "1.5.0",
          "state": {
            "_view_name": "HTMLView",
            "style": "IPY_MODEL_cf2bd820c8c943babf227262a4113171",
            "_dom_classes": [],
            "description": "",
            "_model_name": "HTMLModel",
            "placeholder": "​",
            "_view_module": "@jupyter-widgets/controls",
            "_model_module_version": "1.5.0",
            "value": " 1649664/? [00:00&lt;00:00, 12660108.27it/s]",
            "_view_count": null,
            "_view_module_version": "1.5.0",
            "description_tooltip": null,
            "_model_module": "@jupyter-widgets/controls",
            "layout": "IPY_MODEL_6b92264350294224b44ad1a1263920c8"
          }
        },
        "9155718819524a0f828505c22c81a5c2": {
          "model_module": "@jupyter-widgets/controls",
          "model_name": "DescriptionStyleModel",
          "model_module_version": "1.5.0",
          "state": {
            "_view_name": "StyleView",
            "_model_name": "DescriptionStyleModel",
            "description_width": "",
            "_view_module": "@jupyter-widgets/base",
            "_model_module_version": "1.5.0",
            "_view_count": null,
            "_view_module_version": "1.2.0",
            "_model_module": "@jupyter-widgets/controls"
          }
        },
        "d1688a42960e45909190d78eec1e5a55": {
          "model_module": "@jupyter-widgets/base",
          "model_name": "LayoutModel",
          "model_module_version": "1.2.0",
          "state": {
            "_view_name": "LayoutView",
            "grid_template_rows": null,
            "right": null,
            "justify_content": null,
            "_view_module": "@jupyter-widgets/base",
            "overflow": null,
            "_model_module_version": "1.2.0",
            "_view_count": null,
            "flex_flow": null,
            "width": null,
            "min_width": null,
            "border": null,
            "align_items": null,
            "bottom": null,
            "_model_module": "@jupyter-widgets/base",
            "top": null,
            "grid_column": null,
            "overflow_y": null,
            "overflow_x": null,
            "grid_auto_flow": null,
            "grid_area": null,
            "grid_template_columns": null,
            "flex": null,
            "_model_name": "LayoutModel",
            "justify_items": null,
            "grid_row": null,
            "max_height": null,
            "align_content": null,
            "visibility": null,
            "align_self": null,
            "height": null,
            "min_height": null,
            "padding": null,
            "grid_auto_rows": null,
            "grid_gap": null,
            "max_width": null,
            "order": null,
            "_view_module_version": "1.2.0",
            "grid_template_areas": null,
            "object_position": null,
            "object_fit": null,
            "grid_auto_columns": null,
            "margin": null,
            "display": null,
            "left": null
          }
        },
        "aa0a5fe9b5364ae7ba5c3270d02cb7ed": {
          "model_module": "@jupyter-widgets/controls",
          "model_name": "ProgressStyleModel",
          "model_module_version": "1.5.0",
          "state": {
            "_view_name": "StyleView",
            "_model_name": "ProgressStyleModel",
            "description_width": "",
            "_view_module": "@jupyter-widgets/base",
            "_model_module_version": "1.5.0",
            "_view_count": null,
            "_view_module_version": "1.2.0",
            "bar_color": null,
            "_model_module": "@jupyter-widgets/controls"
          }
        },
        "d9fd57e427ca47a98eb97191cd6651fa": {
          "model_module": "@jupyter-widgets/base",
          "model_name": "LayoutModel",
          "model_module_version": "1.2.0",
          "state": {
            "_view_name": "LayoutView",
            "grid_template_rows": null,
            "right": null,
            "justify_content": null,
            "_view_module": "@jupyter-widgets/base",
            "overflow": null,
            "_model_module_version": "1.2.0",
            "_view_count": null,
            "flex_flow": null,
            "width": null,
            "min_width": null,
            "border": null,
            "align_items": null,
            "bottom": null,
            "_model_module": "@jupyter-widgets/base",
            "top": null,
            "grid_column": null,
            "overflow_y": null,
            "overflow_x": null,
            "grid_auto_flow": null,
            "grid_area": null,
            "grid_template_columns": null,
            "flex": null,
            "_model_name": "LayoutModel",
            "justify_items": null,
            "grid_row": null,
            "max_height": null,
            "align_content": null,
            "visibility": null,
            "align_self": null,
            "height": null,
            "min_height": null,
            "padding": null,
            "grid_auto_rows": null,
            "grid_gap": null,
            "max_width": null,
            "order": null,
            "_view_module_version": "1.2.0",
            "grid_template_areas": null,
            "object_position": null,
            "object_fit": null,
            "grid_auto_columns": null,
            "margin": null,
            "display": null,
            "left": null
          }
        },
        "cf2bd820c8c943babf227262a4113171": {
          "model_module": "@jupyter-widgets/controls",
          "model_name": "DescriptionStyleModel",
          "model_module_version": "1.5.0",
          "state": {
            "_view_name": "StyleView",
            "_model_name": "DescriptionStyleModel",
            "description_width": "",
            "_view_module": "@jupyter-widgets/base",
            "_model_module_version": "1.5.0",
            "_view_count": null,
            "_view_module_version": "1.2.0",
            "_model_module": "@jupyter-widgets/controls"
          }
        },
        "6b92264350294224b44ad1a1263920c8": {
          "model_module": "@jupyter-widgets/base",
          "model_name": "LayoutModel",
          "model_module_version": "1.2.0",
          "state": {
            "_view_name": "LayoutView",
            "grid_template_rows": null,
            "right": null,
            "justify_content": null,
            "_view_module": "@jupyter-widgets/base",
            "overflow": null,
            "_model_module_version": "1.2.0",
            "_view_count": null,
            "flex_flow": null,
            "width": null,
            "min_width": null,
            "border": null,
            "align_items": null,
            "bottom": null,
            "_model_module": "@jupyter-widgets/base",
            "top": null,
            "grid_column": null,
            "overflow_y": null,
            "overflow_x": null,
            "grid_auto_flow": null,
            "grid_area": null,
            "grid_template_columns": null,
            "flex": null,
            "_model_name": "LayoutModel",
            "justify_items": null,
            "grid_row": null,
            "max_height": null,
            "align_content": null,
            "visibility": null,
            "align_self": null,
            "height": null,
            "min_height": null,
            "padding": null,
            "grid_auto_rows": null,
            "grid_gap": null,
            "max_width": null,
            "order": null,
            "_view_module_version": "1.2.0",
            "grid_template_areas": null,
            "object_position": null,
            "object_fit": null,
            "grid_auto_columns": null,
            "margin": null,
            "display": null,
            "left": null
          }
        },
        "cbadd976007d4c25bd3fb017edfb2e0c": {
          "model_module": "@jupyter-widgets/controls",
          "model_name": "HBoxModel",
          "model_module_version": "1.5.0",
          "state": {
            "_view_name": "HBoxView",
            "_dom_classes": [],
            "_model_name": "HBoxModel",
            "_view_module": "@jupyter-widgets/controls",
            "_model_module_version": "1.5.0",
            "_view_count": null,
            "_view_module_version": "1.5.0",
            "box_style": "",
            "layout": "IPY_MODEL_9b6418d1db7740fcb0e5012dd8814a01",
            "_model_module": "@jupyter-widgets/controls",
            "children": [
              "IPY_MODEL_5bce2e64ba994281a4123701b000ef8f",
              "IPY_MODEL_0f99213367c347638678d2049913e5aa",
              "IPY_MODEL_ce307ae5220e4482884b04bff0976126"
            ]
          }
        },
        "9b6418d1db7740fcb0e5012dd8814a01": {
          "model_module": "@jupyter-widgets/base",
          "model_name": "LayoutModel",
          "model_module_version": "1.2.0",
          "state": {
            "_view_name": "LayoutView",
            "grid_template_rows": null,
            "right": null,
            "justify_content": null,
            "_view_module": "@jupyter-widgets/base",
            "overflow": null,
            "_model_module_version": "1.2.0",
            "_view_count": null,
            "flex_flow": null,
            "width": null,
            "min_width": null,
            "border": null,
            "align_items": null,
            "bottom": null,
            "_model_module": "@jupyter-widgets/base",
            "top": null,
            "grid_column": null,
            "overflow_y": null,
            "overflow_x": null,
            "grid_auto_flow": null,
            "grid_area": null,
            "grid_template_columns": null,
            "flex": null,
            "_model_name": "LayoutModel",
            "justify_items": null,
            "grid_row": null,
            "max_height": null,
            "align_content": null,
            "visibility": null,
            "align_self": null,
            "height": null,
            "min_height": null,
            "padding": null,
            "grid_auto_rows": null,
            "grid_gap": null,
            "max_width": null,
            "order": null,
            "_view_module_version": "1.2.0",
            "grid_template_areas": null,
            "object_position": null,
            "object_fit": null,
            "grid_auto_columns": null,
            "margin": null,
            "display": null,
            "left": null
          }
        },
        "5bce2e64ba994281a4123701b000ef8f": {
          "model_module": "@jupyter-widgets/controls",
          "model_name": "HTMLModel",
          "model_module_version": "1.5.0",
          "state": {
            "_view_name": "HTMLView",
            "style": "IPY_MODEL_83c0675efb274c90bdad5b1c831e4683",
            "_dom_classes": [],
            "description": "",
            "_model_name": "HTMLModel",
            "placeholder": "​",
            "_view_module": "@jupyter-widgets/controls",
            "_model_module_version": "1.5.0",
            "value": "",
            "_view_count": null,
            "_view_module_version": "1.5.0",
            "description_tooltip": null,
            "_model_module": "@jupyter-widgets/controls",
            "layout": "IPY_MODEL_7140fc18d7c6487981a70e6b6c357d49"
          }
        },
        "0f99213367c347638678d2049913e5aa": {
          "model_module": "@jupyter-widgets/controls",
          "model_name": "FloatProgressModel",
          "model_module_version": "1.5.0",
          "state": {
            "_view_name": "ProgressView",
            "style": "IPY_MODEL_c4cf20418c09405cafe50f585a034ee4",
            "_dom_classes": [],
            "description": "",
            "_model_name": "FloatProgressModel",
            "bar_style": "success",
            "max": 4542,
            "_view_module": "@jupyter-widgets/controls",
            "_model_module_version": "1.5.0",
            "value": 4542,
            "_view_count": null,
            "_view_module_version": "1.5.0",
            "orientation": "horizontal",
            "min": 0,
            "description_tooltip": null,
            "_model_module": "@jupyter-widgets/controls",
            "layout": "IPY_MODEL_e54a01a1ac7342f0b51dec70dd9b7962"
          }
        },
        "ce307ae5220e4482884b04bff0976126": {
          "model_module": "@jupyter-widgets/controls",
          "model_name": "HTMLModel",
          "model_module_version": "1.5.0",
          "state": {
            "_view_name": "HTMLView",
            "style": "IPY_MODEL_cafb864f3f264fb7b869d297107ce3a3",
            "_dom_classes": [],
            "description": "",
            "_model_name": "HTMLModel",
            "placeholder": "​",
            "_view_module": "@jupyter-widgets/controls",
            "_model_module_version": "1.5.0",
            "value": " 5120/? [00:00&lt;00:00, 112444.88it/s]",
            "_view_count": null,
            "_view_module_version": "1.5.0",
            "description_tooltip": null,
            "_model_module": "@jupyter-widgets/controls",
            "layout": "IPY_MODEL_0ef156b1b6fc4b56ad837d25ec8200b1"
          }
        },
        "83c0675efb274c90bdad5b1c831e4683": {
          "model_module": "@jupyter-widgets/controls",
          "model_name": "DescriptionStyleModel",
          "model_module_version": "1.5.0",
          "state": {
            "_view_name": "StyleView",
            "_model_name": "DescriptionStyleModel",
            "description_width": "",
            "_view_module": "@jupyter-widgets/base",
            "_model_module_version": "1.5.0",
            "_view_count": null,
            "_view_module_version": "1.2.0",
            "_model_module": "@jupyter-widgets/controls"
          }
        },
        "7140fc18d7c6487981a70e6b6c357d49": {
          "model_module": "@jupyter-widgets/base",
          "model_name": "LayoutModel",
          "model_module_version": "1.2.0",
          "state": {
            "_view_name": "LayoutView",
            "grid_template_rows": null,
            "right": null,
            "justify_content": null,
            "_view_module": "@jupyter-widgets/base",
            "overflow": null,
            "_model_module_version": "1.2.0",
            "_view_count": null,
            "flex_flow": null,
            "width": null,
            "min_width": null,
            "border": null,
            "align_items": null,
            "bottom": null,
            "_model_module": "@jupyter-widgets/base",
            "top": null,
            "grid_column": null,
            "overflow_y": null,
            "overflow_x": null,
            "grid_auto_flow": null,
            "grid_area": null,
            "grid_template_columns": null,
            "flex": null,
            "_model_name": "LayoutModel",
            "justify_items": null,
            "grid_row": null,
            "max_height": null,
            "align_content": null,
            "visibility": null,
            "align_self": null,
            "height": null,
            "min_height": null,
            "padding": null,
            "grid_auto_rows": null,
            "grid_gap": null,
            "max_width": null,
            "order": null,
            "_view_module_version": "1.2.0",
            "grid_template_areas": null,
            "object_position": null,
            "object_fit": null,
            "grid_auto_columns": null,
            "margin": null,
            "display": null,
            "left": null
          }
        },
        "c4cf20418c09405cafe50f585a034ee4": {
          "model_module": "@jupyter-widgets/controls",
          "model_name": "ProgressStyleModel",
          "model_module_version": "1.5.0",
          "state": {
            "_view_name": "StyleView",
            "_model_name": "ProgressStyleModel",
            "description_width": "",
            "_view_module": "@jupyter-widgets/base",
            "_model_module_version": "1.5.0",
            "_view_count": null,
            "_view_module_version": "1.2.0",
            "bar_color": null,
            "_model_module": "@jupyter-widgets/controls"
          }
        },
        "e54a01a1ac7342f0b51dec70dd9b7962": {
          "model_module": "@jupyter-widgets/base",
          "model_name": "LayoutModel",
          "model_module_version": "1.2.0",
          "state": {
            "_view_name": "LayoutView",
            "grid_template_rows": null,
            "right": null,
            "justify_content": null,
            "_view_module": "@jupyter-widgets/base",
            "overflow": null,
            "_model_module_version": "1.2.0",
            "_view_count": null,
            "flex_flow": null,
            "width": null,
            "min_width": null,
            "border": null,
            "align_items": null,
            "bottom": null,
            "_model_module": "@jupyter-widgets/base",
            "top": null,
            "grid_column": null,
            "overflow_y": null,
            "overflow_x": null,
            "grid_auto_flow": null,
            "grid_area": null,
            "grid_template_columns": null,
            "flex": null,
            "_model_name": "LayoutModel",
            "justify_items": null,
            "grid_row": null,
            "max_height": null,
            "align_content": null,
            "visibility": null,
            "align_self": null,
            "height": null,
            "min_height": null,
            "padding": null,
            "grid_auto_rows": null,
            "grid_gap": null,
            "max_width": null,
            "order": null,
            "_view_module_version": "1.2.0",
            "grid_template_areas": null,
            "object_position": null,
            "object_fit": null,
            "grid_auto_columns": null,
            "margin": null,
            "display": null,
            "left": null
          }
        },
        "cafb864f3f264fb7b869d297107ce3a3": {
          "model_module": "@jupyter-widgets/controls",
          "model_name": "DescriptionStyleModel",
          "model_module_version": "1.5.0",
          "state": {
            "_view_name": "StyleView",
            "_model_name": "DescriptionStyleModel",
            "description_width": "",
            "_view_module": "@jupyter-widgets/base",
            "_model_module_version": "1.5.0",
            "_view_count": null,
            "_view_module_version": "1.2.0",
            "_model_module": "@jupyter-widgets/controls"
          }
        },
        "0ef156b1b6fc4b56ad837d25ec8200b1": {
          "model_module": "@jupyter-widgets/base",
          "model_name": "LayoutModel",
          "model_module_version": "1.2.0",
          "state": {
            "_view_name": "LayoutView",
            "grid_template_rows": null,
            "right": null,
            "justify_content": null,
            "_view_module": "@jupyter-widgets/base",
            "overflow": null,
            "_model_module_version": "1.2.0",
            "_view_count": null,
            "flex_flow": null,
            "width": null,
            "min_width": null,
            "border": null,
            "align_items": null,
            "bottom": null,
            "_model_module": "@jupyter-widgets/base",
            "top": null,
            "grid_column": null,
            "overflow_y": null,
            "overflow_x": null,
            "grid_auto_flow": null,
            "grid_area": null,
            "grid_template_columns": null,
            "flex": null,
            "_model_name": "LayoutModel",
            "justify_items": null,
            "grid_row": null,
            "max_height": null,
            "align_content": null,
            "visibility": null,
            "align_self": null,
            "height": null,
            "min_height": null,
            "padding": null,
            "grid_auto_rows": null,
            "grid_gap": null,
            "max_width": null,
            "order": null,
            "_view_module_version": "1.2.0",
            "grid_template_areas": null,
            "object_position": null,
            "object_fit": null,
            "grid_auto_columns": null,
            "margin": null,
            "display": null,
            "left": null
          }
        }
      }
    }
  },
  "cells": [
    {
      "cell_type": "markdown",
      "metadata": {
        "id": "hMGolCFjELAl"
      },
      "source": [
        "# Redes neuronales en pytorch\n",
        "\n",
        "En esta lección ya utilizaremos pytorch para definir algunos modelos de ML y DL, además de ajustarlos y ver sus métricas. En este cuaderno veremos dos modelos:\n",
        "\n",
        "* Regresión logística\n",
        "* Perceptrón multicapa\n",
        "\n",
        "### Regresión logística para el dataset MNIST\n",
        "\n",
        "Empezamos creando un modelo no profundo (regresión logística), más todo el código de entrenamiento para entrenar y evaluar este modelo sobre el dataset MNIST"
      ]
    },
    {
      "cell_type": "code",
      "metadata": {
        "id": "I3J67AuRELAp"
      },
      "source": [
        "import torch\n",
        "import torch.nn as nn\n",
        "import torch.nn.functional as F\n",
        "import torch.optim as optim\n",
        "from torchvision import datasets, transforms\n",
        "import matplotlib.pyplot as plt"
      ],
      "execution_count": 1,
      "outputs": []
    },
    {
      "cell_type": "markdown",
      "metadata": {
        "id": "c1nelzlyELAr"
      },
      "source": [
        "Ahora, definiremos algunos hiperparámetros y opciones para el entrenamiento"
      ]
    },
    {
      "cell_type": "code",
      "metadata": {
        "id": "vkJoJ4sLELAr"
      },
      "source": [
        "# Fijamos la semilla aleatoria, con lo que el experimento es reproducible\n",
        "seed = 0\n",
        "torch.manual_seed(seed)\n",
        "# Por el momento, entrenaremos en CPU\n",
        "use_cuda = True\n",
        "device = torch.device(\"cuda\" if use_cuda else \"cpu\")\n",
        "# Usamos un tamaño de batch de 32 ejemplos para entrenar. Lo dejamos en 1000 para evaluar.\n",
        "batch_size = 32\n",
        "test_batch_size = 1000\n",
        "# Usaremos SGD con un término de momento\n",
        "momentum = 0.5\n",
        "# La tasa de aprendizaje\n",
        "lr = 0.01\n",
        "# El número de épocas\n",
        "epochs = 3\n",
        "# El tamaño del input. El MNIST consiste en imágenes en escala de grises, 28x28 pixeles\n",
        "im_size = 28*28"
      ],
      "execution_count": 2,
      "outputs": []
    },
    {
      "cell_type": "markdown",
      "metadata": {
        "id": "2IlGU4_0ELAs"
      },
      "source": [
        "Ahora, ya estamos listos para definir nuestro modelo de pytorch. Esto se hace creando una clase que extiende nn.Module, con dos métodos:\n",
        "\n",
        "* __init__ : usado para definit e inicializar los parámetros del modelo. Para el caso de regresión logística, el único parámetro entrenable es una matriz de tamaño 28*28 x 10, porque queremos proyectar a un espacio de 10 dimensiones para predecir el dígito (0 - 9). Podriamos calcular esta multiplicación a mano, pero pytorch cuenta con nn.Linear que es un atajo para la proyección lineal\n",
        "\n",
        "* forward: usado para definir la computación en el modelo. Simplemente aplicaremos la proyección lineal al input, y luego la transformación softmax (por lo que el output del modelo puede ser interpretado como una distribución de probabilidad sobre los 10 dígitos)\n",
        "\n",
        "\n",
        "\n",
        "\n",
        "Notemos dos cosas:\n",
        "\n",
        "1. Como las imágenes del MNIST son tensores de tamaño 28x28, y el operador Linear espera un array unidimensional (porque es la operación W x vector(imagen), tenemos que aplanar la imagen usando el método view (es como un reshape)\n",
        "\n",
        "2. Como la función de coste es nll_loss (vemos la siguiente celda), espera que su input este en espacio logarítmico, por lo que usamos log_softmax en vez de softmax (ver https://pytorch.org/docs/stable/nn.functional.html#log-softmax)"
      ]
    },
    {
      "cell_type": "code",
      "metadata": {
        "id": "t0B6_uYhELAt"
      },
      "source": [
        "class LogisticRegression(nn.Module):\n",
        "    def __init__(self):\n",
        "        super(LogisticRegression, self).__init__()\n",
        "\n",
        "        ## Definimos las capas del modelo (en este caso, solo 1 lineal)\n",
        "        self.lin = nn.Linear(28*28, 10, bias=False)\n",
        "\n",
        "\n",
        "    def forward(self, x):\n",
        "\n",
        "        ## Aplicamos las operaciones y las capas definidas antes:\n",
        "        ## 1. Redimensionamos el input (pasamos de matriz a vector de 768 componentes)\n",
        "        ## 2. Aplicamos la capa lineal\n",
        "        ## 3. Aplicamos las función (log) softmax\n",
        "\n",
        "        x_flat = x.view(-1, im_size)\n",
        "        return F.log_softmax(self.lin(x_flat), dim=1)"
      ],
      "execution_count": 3,
      "outputs": []
    },
    {
      "cell_type": "code",
      "metadata": {
        "colab": {
          "base_uri": "https://localhost:8080/"
        },
        "id": "oIjKYM2A54_W",
        "outputId": "4be8d0ee-7fd6-4ac1-f230-bbbd893088e1"
      },
      "source": [
        "LogisticRegression()"
      ],
      "execution_count": 4,
      "outputs": [
        {
          "output_type": "execute_result",
          "data": {
            "text/plain": [
              "LogisticRegression(\n",
              "  (lin): Linear(in_features=784, out_features=10, bias=False)\n",
              ")"
            ]
          },
          "metadata": {},
          "execution_count": 4
        }
      ]
    },
    {
      "cell_type": "markdown",
      "metadata": {
        "id": "WbnbLWXtELAt"
      },
      "source": [
        "Ahora definimos el bucle de entrenamiento.\n",
        "Para cada minibatch (obtenido mediente enumerate(train_loader)), hacemos lo siguiente:\n",
        "\n",
        "1. Mover x, y (data, target) a la GPU si es necesario (usando .to(device))\n",
        "2. Resetear los gradientes a zero (desde iteraciones previas) usando .zero_grad()\n",
        "3. Forward pass: calculamos las predicciones del modelo usando model(data) (que es y = f(x) donde f es la función de la regresión logística), y luego la función de coste (F.nll_loss)\n",
        "4. Retropropagación: calculamos los gradientes usando .backward(), y luego aplicamos un paso del optimizador, que por debajo hace $w \\leftarrow w - lr * \\nabla (loss(f(x), y)$ para el caso de descenso por el gradiente."
      ]
    },
    {
      "cell_type": "markdown",
      "metadata": {
        "id": "bWUpJ5CUELAu"
      },
      "source": [
        "**Ejercicio** Basado en el esquema anterior, completar los huecos que falten:"
      ]
    },
    {
      "cell_type": "code",
      "metadata": {
        "id": "GwSTAKQzELAv"
      },
      "source": [
        "def train(model, device, train_loader, optimizer, epoch, train_losses):\n",
        "    model.train()\n",
        "    for batch_idx, (data, target) in enumerate(train_loader):\n",
        "        data = data.to(device)\n",
        "        target = target.to(device)\n",
        "        optimizer.zero_grad()\n",
        "        prediction = model(data)\n",
        "        loss = F.nll_loss(prediction, target)\n",
        "\n",
        "        loss.backward()\n",
        "        optimizer.step()\n",
        "        \n",
        "        if batch_idx % 100 == 0:\n",
        "            print('Train Epoch: {} [{}/{} ({:.0f}%)]\\tLoss: {:.6f}'.format(\n",
        "                epoch, batch_idx * len(data), len(train_loader.dataset),\n",
        "                100. * batch_idx / len(train_loader), loss.item()))\n",
        "            train_losses.append(loss.item())"
      ],
      "execution_count": 5,
      "outputs": []
    },
    {
      "cell_type": "markdown",
      "metadata": {
        "id": "dJsgbhW3ELAw"
      },
      "source": [
        "También podemos crear una función para evaluar nuestro modelo. Es muy similar a la previa, pero las diferencias principales son:\n",
        "\n",
        "1. Usamos torch.no_grad() para evitar que se calculen gradientes y sea más rápido.\n",
        "2. Una vez que tenemos la distribución del target para algún ejemplo, usamos .argmax para calcular el dígito más probable."
      ]
    },
    {
      "cell_type": "code",
      "metadata": {
        "id": "Ht8ODKHIELAw"
      },
      "source": [
        "def test(model, device, test_loader):\n",
        "    model.eval()\n",
        "    test_loss = 0\n",
        "    correct = 0\n",
        "    with torch.no_grad():\n",
        "        for data, target in test_loader:\n",
        "            data, target = data.to(device), target.to(device)\n",
        "            output = model(data)\n",
        "            test_loss += F.nll_loss(output, target, reduction='sum').item() # sum up batch loss\n",
        "            pred = output.argmax(dim=1, keepdim=True) # get the index of the max log-probability\n",
        "            correct += pred.eq(target.view_as(pred)).sum().item()\n",
        "\n",
        "    test_loss /= len(test_loader.dataset)\n",
        "\n",
        "    print('\\nTest set: Average loss: {:.4f}, Accuracy: {}/{} ({:.0f}%)\\n'.format(\n",
        "        test_loss, correct, len(test_loader.dataset),\n",
        "        100. * correct / len(test_loader.dataset)))"
      ],
      "execution_count": 6,
      "outputs": []
    },
    {
      "cell_type": "markdown",
      "metadata": {
        "collapsed": true,
        "id": "bRWC3zCHELAx"
      },
      "source": [
        "Ahora, vamos a cargar el dataset. Como el dataset MNIST es muy popular, pytorch ya lo tiene incluido en datasets.MNIST, y se lo descargará automáticamente la primera vez. También podemos especificar algunas transformaciones, como convertir a tensores y normalizar los pixeles.\n",
        "\n",
        "Fijémonos en que creamos dos cargadores de datos: uno para el conjunto de entrenamiento y otro para el de evaluación. Como esto es un experimento rápido, no vamos a validar los hiperparámetros del principio, por lo que no creamos otro dataloader.\n",
        "\n",
        "El principal beneficio de la clase DataLoader es que nos crea un objeto que puede ser utilizado en un bucle for, como hicimos con la función anterior de entrenamiento, con el que podemos iterar sobre los minibatches."
      ]
    },
    {
      "cell_type": "code",
      "metadata": {
        "id": "AoDAE9HTELAx",
        "colab": {
          "base_uri": "https://localhost:8080/",
          "height": 471,
          "referenced_widgets": [
            "dfbbf7cff0fb41d0a13344c0f766487c",
            "531c9e5fc7f644ceb2f084d8a5072d9e",
            "11a3d55e2c524ce7975f73abf265b606",
            "1c9942938e1b46df82a4400a0b571c22",
            "6fb0a5ad1e9c44f6aef4807c58c711da",
            "9aca69ad674b46c5a05af824d7be8880",
            "f05098343905439aaa35eca39b557277",
            "6a86f11acfc44299be333be4597162c3",
            "209344fb0f0f4425b76d58ee6a37ede5",
            "a3a547743f184ebb977740a6a8631faf",
            "d734f047991748378e34aa18ec20cc49",
            "74f076d8b4674da9b377beed6977d476",
            "392f0d0913ec4030b472f05d9da44d5a",
            "df6eb97fc0964afdbc003155363189a5",
            "aabbe302ff2548dcbd962a4245b01fcc",
            "876fa5cf488b49b4b47908e5f7a5c4e8",
            "d5d45b2c34074b648ecd10e3ba814640",
            "8dd8c20f84a840ccb4b679089e56fe00",
            "58b759f42cca4deabcec44307f63258c",
            "8abe4b7fe63f4faf932ac81fa1eda85b",
            "dcf68e69060c4b48ae2ec7baf71a0ecc",
            "d67cf9cd4ebd4f3c830dad84574a9466",
            "7f1b38fa015d4fc2a2db4afe4dda5a65",
            "a1ee4d23e70444d2b52b0101361f8318",
            "e5d6ada5a8b74664aefe062125518ceb",
            "3ca89e3a0e4442b6b81189bc72214f58",
            "349847edf52a45f09613633b519e1b34",
            "9155718819524a0f828505c22c81a5c2",
            "d1688a42960e45909190d78eec1e5a55",
            "aa0a5fe9b5364ae7ba5c3270d02cb7ed",
            "d9fd57e427ca47a98eb97191cd6651fa",
            "cf2bd820c8c943babf227262a4113171",
            "6b92264350294224b44ad1a1263920c8",
            "cbadd976007d4c25bd3fb017edfb2e0c",
            "9b6418d1db7740fcb0e5012dd8814a01",
            "5bce2e64ba994281a4123701b000ef8f",
            "0f99213367c347638678d2049913e5aa",
            "ce307ae5220e4482884b04bff0976126",
            "83c0675efb274c90bdad5b1c831e4683",
            "7140fc18d7c6487981a70e6b6c357d49",
            "c4cf20418c09405cafe50f585a034ee4",
            "e54a01a1ac7342f0b51dec70dd9b7962",
            "cafb864f3f264fb7b869d297107ce3a3",
            "0ef156b1b6fc4b56ad837d25ec8200b1"
          ]
        },
        "outputId": "5bf9ca61-571c-44d4-eeb0-b841e2352c38"
      },
      "source": [
        "train_loader = torch.utils.data.DataLoader(\n",
        "    datasets.MNIST('../data', train=True, download=True,\n",
        "                   transform=transforms.Compose([\n",
        "                       transforms.ToTensor(),\n",
        "                       transforms.Normalize((0.1307,), (0.3081,))\n",
        "                   ])),\n",
        "    batch_size=batch_size, shuffle=True)\n",
        "\n",
        "test_loader = torch.utils.data.DataLoader(\n",
        "    datasets.MNIST('../data', train=False, transform=transforms.Compose([\n",
        "                       transforms.ToTensor(),\n",
        "                       transforms.Normalize((0.1307,), (0.3081,))\n",
        "                   ])),\n",
        "    batch_size=test_batch_size, shuffle=True)"
      ],
      "execution_count": 7,
      "outputs": [
        {
          "output_type": "stream",
          "name": "stdout",
          "text": [
            "Downloading http://yann.lecun.com/exdb/mnist/train-images-idx3-ubyte.gz\n",
            "Downloading http://yann.lecun.com/exdb/mnist/train-images-idx3-ubyte.gz to ../data/MNIST/raw/train-images-idx3-ubyte.gz\n"
          ]
        },
        {
          "output_type": "display_data",
          "data": {
            "application/vnd.jupyter.widget-view+json": {
              "model_id": "dfbbf7cff0fb41d0a13344c0f766487c",
              "version_minor": 0,
              "version_major": 2
            },
            "text/plain": [
              "  0%|          | 0/9912422 [00:00<?, ?it/s]"
            ]
          },
          "metadata": {}
        },
        {
          "output_type": "stream",
          "name": "stdout",
          "text": [
            "Extracting ../data/MNIST/raw/train-images-idx3-ubyte.gz to ../data/MNIST/raw\n",
            "\n",
            "Downloading http://yann.lecun.com/exdb/mnist/train-labels-idx1-ubyte.gz\n",
            "Downloading http://yann.lecun.com/exdb/mnist/train-labels-idx1-ubyte.gz to ../data/MNIST/raw/train-labels-idx1-ubyte.gz\n"
          ]
        },
        {
          "output_type": "display_data",
          "data": {
            "application/vnd.jupyter.widget-view+json": {
              "model_id": "74f076d8b4674da9b377beed6977d476",
              "version_minor": 0,
              "version_major": 2
            },
            "text/plain": [
              "  0%|          | 0/28881 [00:00<?, ?it/s]"
            ]
          },
          "metadata": {}
        },
        {
          "output_type": "stream",
          "name": "stdout",
          "text": [
            "Extracting ../data/MNIST/raw/train-labels-idx1-ubyte.gz to ../data/MNIST/raw\n",
            "\n",
            "Downloading http://yann.lecun.com/exdb/mnist/t10k-images-idx3-ubyte.gz\n",
            "Downloading http://yann.lecun.com/exdb/mnist/t10k-images-idx3-ubyte.gz to ../data/MNIST/raw/t10k-images-idx3-ubyte.gz\n"
          ]
        },
        {
          "output_type": "display_data",
          "data": {
            "application/vnd.jupyter.widget-view+json": {
              "model_id": "7f1b38fa015d4fc2a2db4afe4dda5a65",
              "version_minor": 0,
              "version_major": 2
            },
            "text/plain": [
              "  0%|          | 0/1648877 [00:00<?, ?it/s]"
            ]
          },
          "metadata": {}
        },
        {
          "output_type": "stream",
          "name": "stdout",
          "text": [
            "Extracting ../data/MNIST/raw/t10k-images-idx3-ubyte.gz to ../data/MNIST/raw\n",
            "\n",
            "Downloading http://yann.lecun.com/exdb/mnist/t10k-labels-idx1-ubyte.gz\n",
            "Downloading http://yann.lecun.com/exdb/mnist/t10k-labels-idx1-ubyte.gz to ../data/MNIST/raw/t10k-labels-idx1-ubyte.gz\n"
          ]
        },
        {
          "output_type": "display_data",
          "data": {
            "application/vnd.jupyter.widget-view+json": {
              "model_id": "cbadd976007d4c25bd3fb017edfb2e0c",
              "version_minor": 0,
              "version_major": 2
            },
            "text/plain": [
              "  0%|          | 0/4542 [00:00<?, ?it/s]"
            ]
          },
          "metadata": {}
        },
        {
          "output_type": "stream",
          "name": "stdout",
          "text": [
            "Extracting ../data/MNIST/raw/t10k-labels-idx1-ubyte.gz to ../data/MNIST/raw\n",
            "\n"
          ]
        },
        {
          "output_type": "stream",
          "name": "stderr",
          "text": [
            "/usr/local/lib/python3.7/dist-packages/torchvision/datasets/mnist.py:498: UserWarning: The given NumPy array is not writeable, and PyTorch does not support non-writeable tensors. This means you can write to the underlying (supposedly non-writeable) NumPy array using the tensor. You may want to copy the array to protect its data or make it writeable before converting it to a tensor. This type of warning will be suppressed for the rest of this program. (Triggered internally at  /pytorch/torch/csrc/utils/tensor_numpy.cpp:180.)\n",
            "  return torch.from_numpy(parsed.astype(m[2], copy=False)).view(*s)\n"
          ]
        }
      ]
    },
    {
      "cell_type": "markdown",
      "metadata": {
        "id": "kCFfdlUIELAy"
      },
      "source": [
        "Visualicemos algunos ejemplos junto a sus etiquetas."
      ]
    },
    {
      "cell_type": "code",
      "metadata": {
        "id": "32clcLtjELAy",
        "colab": {
          "base_uri": "https://localhost:8080/"
        },
        "outputId": "449c662a-78f5-4743-ed32-0c5d25908cd7"
      },
      "source": [
        "examples = enumerate(train_loader)\n",
        "batch_idx, (example, label) = next(examples)\n",
        "example.shape"
      ],
      "execution_count": 8,
      "outputs": [
        {
          "output_type": "execute_result",
          "data": {
            "text/plain": [
              "torch.Size([32, 1, 28, 28])"
            ]
          },
          "metadata": {},
          "execution_count": 8
        }
      ]
    },
    {
      "cell_type": "code",
      "metadata": {
        "colab": {
          "base_uri": "https://localhost:8080/"
        },
        "id": "GE3QY4yR-abh",
        "outputId": "df0c4fe7-0096-40c9-b7ba-e3127d6dcc7c"
      },
      "source": [
        "for example, label in train_loader:\n",
        "  print(example.shape)\n",
        "  break"
      ],
      "execution_count": 9,
      "outputs": [
        {
          "output_type": "stream",
          "name": "stdout",
          "text": [
            "torch.Size([32, 1, 28, 28])\n"
          ]
        }
      ]
    },
    {
      "cell_type": "code",
      "metadata": {
        "id": "t1qvsH42ELAz",
        "colab": {
          "base_uri": "https://localhost:8080/",
          "height": 467
        },
        "outputId": "9d2b3980-1b4e-46e5-8767-da5e54066012"
      },
      "source": [
        "fig = plt.figure()\n",
        "for i in range(8):\n",
        "  plt.subplot(2,4,i+1)\n",
        "  plt.imshow(example[i][0], cmap='gray', interpolation='none')\n",
        "  plt.title(\"Label: {}\".format(label[i]))\n",
        "  plt.xticks([])\n",
        "  plt.yticks([])\n",
        "fig"
      ],
      "execution_count": 10,
      "outputs": [
        {
          "output_type": "execute_result",
          "data": {
            "image/png": "[encoded data removed]",
            "text/plain": [
              "<Figure size 432x288 with 8 Axes>"
            ]
          },
          "metadata": {},
          "execution_count": 10
        },
        {
          "output_type": "display_data",
          "data": {
            "image/png": "[encoded data removed]",
            "text/plain": [
              "<Figure size 432x288 with 8 Axes>"
            ]
          },
          "metadata": {}
        }
      ]
    },
    {
      "cell_type": "markdown",
      "metadata": {
        "id": "5SDrPi69ELAz"
      },
      "source": [
        "¡Ya casi hemos terminado! Ahora solo tenemos que instanciar el modelo, y decirle que optimizador vamos a utilizar, en este caso, descenso por el gradiente estocástico."
      ]
    },
    {
      "cell_type": "code",
      "metadata": {
        "id": "wCWBOaRdELAz"
      },
      "source": [
        "model = LogisticRegression().to(device)\n",
        "optimizer = optim.SGD(model.parameters(), lr=lr, momentum=momentum)"
      ],
      "execution_count": 11,
      "outputs": []
    },
    {
      "cell_type": "markdown",
      "metadata": {
        "id": "dgDXXcFRELAz"
      },
      "source": [
        "Y finalmente, un sencillo bucle sobre el número de épocas. Esto debería llevar unos pocos minutos en la cpu de un portátil..."
      ]
    },
    {
      "cell_type": "code",
      "metadata": {
        "id": "kCrVGeOcELA0",
        "colab": {
          "base_uri": "https://localhost:8080/"
        },
        "outputId": "d722eaa1-94a9-409f-a1b7-b5f7c9e1ae98"
      },
      "source": [
        "train_losses = []\n",
        "for epoch in range(1, epochs + 1):\n",
        "        train(model, device, train_loader, optimizer, epoch, train_losses)\n",
        "        test(model, device, test_loader)"
      ],
      "execution_count": 12,
      "outputs": [
        {
          "output_type": "stream",
          "name": "stdout",
          "text": [
            "Train Epoch: 1 [0/60000 (0%)]\tLoss: 2.443536\n",
            "Train Epoch: 1 [3200/60000 (5%)]\tLoss: 0.449057\n",
            "Train Epoch: 1 [6400/60000 (11%)]\tLoss: 0.255912\n",
            "Train Epoch: 1 [9600/60000 (16%)]\tLoss: 0.409034\n",
            "Train Epoch: 1 [12800/60000 (21%)]\tLoss: 0.241878\n",
            "Train Epoch: 1 [16000/60000 (27%)]\tLoss: 0.310971\n",
            "Train Epoch: 1 [19200/60000 (32%)]\tLoss: 0.225411\n",
            "Train Epoch: 1 [22400/60000 (37%)]\tLoss: 0.468771\n",
            "Train Epoch: 1 [25600/60000 (43%)]\tLoss: 0.483764\n",
            "Train Epoch: 1 [28800/60000 (48%)]\tLoss: 0.490922\n",
            "Train Epoch: 1 [32000/60000 (53%)]\tLoss: 0.191463\n",
            "Train Epoch: 1 [35200/60000 (59%)]\tLoss: 0.257455\n",
            "Train Epoch: 1 [38400/60000 (64%)]\tLoss: 0.167807\n",
            "Train Epoch: 1 [41600/60000 (69%)]\tLoss: 0.281548\n",
            "Train Epoch: 1 [44800/60000 (75%)]\tLoss: 0.354214\n",
            "Train Epoch: 1 [48000/60000 (80%)]\tLoss: 0.355108\n",
            "Train Epoch: 1 [51200/60000 (85%)]\tLoss: 0.296116\n",
            "Train Epoch: 1 [54400/60000 (91%)]\tLoss: 0.271146\n",
            "Train Epoch: 1 [57600/60000 (96%)]\tLoss: 0.406076\n",
            "\n",
            "Test set: Average loss: 0.2934, Accuracy: 9180/10000 (92%)\n",
            "\n",
            "Train Epoch: 2 [0/60000 (0%)]\tLoss: 0.274734\n",
            "Train Epoch: 2 [3200/60000 (5%)]\tLoss: 0.222106\n",
            "Train Epoch: 2 [6400/60000 (11%)]\tLoss: 0.242697\n",
            "Train Epoch: 2 [9600/60000 (16%)]\tLoss: 0.154221\n",
            "Train Epoch: 2 [12800/60000 (21%)]\tLoss: 0.302449\n",
            "Train Epoch: 2 [16000/60000 (27%)]\tLoss: 0.289825\n",
            "Train Epoch: 2 [19200/60000 (32%)]\tLoss: 0.216164\n",
            "Train Epoch: 2 [22400/60000 (37%)]\tLoss: 0.359433\n",
            "Train Epoch: 2 [25600/60000 (43%)]\tLoss: 0.530600\n",
            "Train Epoch: 2 [28800/60000 (48%)]\tLoss: 0.135908\n",
            "Train Epoch: 2 [32000/60000 (53%)]\tLoss: 0.171969\n",
            "Train Epoch: 2 [35200/60000 (59%)]\tLoss: 0.237356\n",
            "Train Epoch: 2 [38400/60000 (64%)]\tLoss: 0.240993\n",
            "Train Epoch: 2 [41600/60000 (69%)]\tLoss: 0.460092\n",
            "Train Epoch: 2 [44800/60000 (75%)]\tLoss: 0.563885\n",
            "Train Epoch: 2 [48000/60000 (80%)]\tLoss: 0.503447\n",
            "Train Epoch: 2 [51200/60000 (85%)]\tLoss: 0.425130\n",
            "Train Epoch: 2 [54400/60000 (91%)]\tLoss: 0.169785\n",
            "Train Epoch: 2 [57600/60000 (96%)]\tLoss: 0.210596\n",
            "\n",
            "Test set: Average loss: 0.2801, Accuracy: 9228/10000 (92%)\n",
            "\n",
            "Train Epoch: 3 [0/60000 (0%)]\tLoss: 0.396136\n",
            "Train Epoch: 3 [3200/60000 (5%)]\tLoss: 0.373498\n",
            "Train Epoch: 3 [6400/60000 (11%)]\tLoss: 0.341980\n",
            "Train Epoch: 3 [9600/60000 (16%)]\tLoss: 0.113490\n",
            "Train Epoch: 3 [12800/60000 (21%)]\tLoss: 0.222523\n",
            "Train Epoch: 3 [16000/60000 (27%)]\tLoss: 0.108596\n",
            "Train Epoch: 3 [19200/60000 (32%)]\tLoss: 0.312475\n",
            "Train Epoch: 3 [22400/60000 (37%)]\tLoss: 0.074583\n",
            "Train Epoch: 3 [25600/60000 (43%)]\tLoss: 0.662771\n",
            "Train Epoch: 3 [28800/60000 (48%)]\tLoss: 0.232784\n",
            "Train Epoch: 3 [32000/60000 (53%)]\tLoss: 0.341175\n",
            "Train Epoch: 3 [35200/60000 (59%)]\tLoss: 0.336512\n",
            "Train Epoch: 3 [38400/60000 (64%)]\tLoss: 0.241728\n",
            "Train Epoch: 3 [41600/60000 (69%)]\tLoss: 0.313621\n",
            "Train Epoch: 3 [44800/60000 (75%)]\tLoss: 0.327434\n",
            "Train Epoch: 3 [48000/60000 (80%)]\tLoss: 0.423522\n",
            "Train Epoch: 3 [51200/60000 (85%)]\tLoss: 0.430898\n",
            "Train Epoch: 3 [54400/60000 (91%)]\tLoss: 0.352429\n",
            "Train Epoch: 3 [57600/60000 (96%)]\tLoss: 0.543920\n",
            "\n",
            "Test set: Average loss: 0.2818, Accuracy: 9216/10000 (92%)\n",
            "\n"
          ]
        }
      ]
    },
    {
      "cell_type": "markdown",
      "metadata": {
        "id": "IZLbFUk1ELA0"
      },
      "source": [
        "**Ejercicio**: visualiza la función de pérdida a lo largo del entrenamiento:"
      ]
    },
    {
      "cell_type": "code",
      "metadata": {
        "id": "faenSl9GELA0",
        "colab": {
          "base_uri": "https://localhost:8080/",
          "height": 282
        },
        "outputId": "652e82be-e881-4bfd-950d-48555b567cce"
      },
      "source": [
        "plt.plot(train_losses)"
      ],
      "execution_count": 14,
      "outputs": [
        {
          "output_type": "execute_result",
          "data": {
            "text/plain": [
              "[<matplotlib.lines.Line2D at 0x7f31af7d5e10>]"
            ]
          },
          "metadata": {},
          "execution_count": 14
        },
        {
          "output_type": "display_data",
          "data": {
            "image/png": "[encoded data removed]",
            "text/plain": [
              "<Figure size 432x288 with 1 Axes>"
            ]
          },
          "metadata": {
            "needs_background": "light"
          }
        }
      ]
    },
    {
      "cell_type": "markdown",
      "metadata": {
        "id": "XHDxgN-vELA0"
      },
      "source": [
        "Como primer intento, hemos obtenido cerca del 92% de tasa de acierto, lo que no está mal, pero pronto veremos cómo mejorar los resultados"
      ]
    },
    {
      "cell_type": "markdown",
      "metadata": {
        "collapsed": true,
        "id": "ma3V9oqsELA0"
      },
      "source": [
        "### Perceptrón multicapa para el MNIST\n",
        "\n",
        "Ahora repetiremos lo anterior con una red neuronal más profunda\n"
      ]
    },
    {
      "cell_type": "markdown",
      "metadata": {
        "id": "MKHlbYQQELA1"
      },
      "source": [
        "Como antes, definimos la estructura de la red. Usaremos una capa oculta con 50 neuronas y activación ReLu, pero sentíos libres para cambiarlo!"
      ]
    },
    {
      "cell_type": "code",
      "metadata": {
        "id": "viwqxcA1ELA1"
      },
      "source": [
        "class MLP(nn.Module):\n",
        "    def __init__(self):\n",
        "        super(MLP, self).__init__()\n",
        "        self.fc1 = nn.Linear(28*28, 50)\n",
        "        self.fc2 = nn.Linear(50, 10)\n",
        "\n",
        "    def forward(self, x):\n",
        "        x = x.view(-1, 28*28)\n",
        "        x = F.relu(self.fc1(x))\n",
        "        x = self.fc2(x)\n",
        "        return F.log_softmax(x)"
      ],
      "execution_count": 15,
      "outputs": []
    },
    {
      "cell_type": "markdown",
      "metadata": {
        "id": "qoW4_ST1ELA1"
      },
      "source": [
        "Ahora inicializaremos la red y elegiremos el optimizador. Proponemos utilizar SGD. Ponemos la learning_rate a 0.01 y el momentum a 0.5"
      ]
    },
    {
      "cell_type": "code",
      "metadata": {
        "id": "0inXjZMUELA1"
      },
      "source": [
        "learning_rate = 0.01\n",
        "momentum = 0.5\n",
        "model = MLP().to(device)\n",
        "optimizer = optim.SGD(model.parameters(), lr=learning_rate,\n",
        "                      momentum=momentum)"
      ],
      "execution_count": 16,
      "outputs": []
    },
    {
      "cell_type": "markdown",
      "metadata": {
        "id": "hDk5-l2cELA1"
      },
      "source": [
        "Ahora entrenemos el modelo otra vez durante 3 épocas. "
      ]
    },
    {
      "cell_type": "code",
      "metadata": {
        "id": "soxKSkbYELA1",
        "colab": {
          "base_uri": "https://localhost:8080/"
        },
        "outputId": "84ce469a-efa1-41b9-a281-bef905631145"
      },
      "source": [
        "training_losses = []\n",
        "for epoch in range(1, epochs + 1):\n",
        "    train(model, device, train_loader, optimizer, epoch, training_losses)\n",
        "    test(model, device, test_loader)"
      ],
      "execution_count": 17,
      "outputs": [
        {
          "output_type": "stream",
          "name": "stderr",
          "text": [
            "/usr/local/lib/python3.7/dist-packages/ipykernel_launcher.py:11: UserWarning: Implicit dimension choice for log_softmax has been deprecated. Change the call to include dim=X as an argument.\n",
            "  # This is added back by InteractiveShellApp.init_path()\n"
          ]
        },
        {
          "output_type": "stream",
          "name": "stdout",
          "text": [
            "Train Epoch: 1 [0/60000 (0%)]\tLoss: 2.360671\n",
            "Train Epoch: 1 [3200/60000 (5%)]\tLoss: 1.021303\n",
            "Train Epoch: 1 [6400/60000 (11%)]\tLoss: 0.386629\n",
            "Train Epoch: 1 [9600/60000 (16%)]\tLoss: 0.633212\n",
            "Train Epoch: 1 [12800/60000 (21%)]\tLoss: 0.270669\n",
            "Train Epoch: 1 [16000/60000 (27%)]\tLoss: 0.411773\n",
            "Train Epoch: 1 [19200/60000 (32%)]\tLoss: 0.489418\n",
            "Train Epoch: 1 [22400/60000 (37%)]\tLoss: 0.179881\n",
            "Train Epoch: 1 [25600/60000 (43%)]\tLoss: 0.258762\n",
            "Train Epoch: 1 [28800/60000 (48%)]\tLoss: 0.225675\n",
            "Train Epoch: 1 [32000/60000 (53%)]\tLoss: 0.161961\n",
            "Train Epoch: 1 [35200/60000 (59%)]\tLoss: 0.190058\n",
            "Train Epoch: 1 [38400/60000 (64%)]\tLoss: 0.396041\n",
            "Train Epoch: 1 [41600/60000 (69%)]\tLoss: 0.288078\n",
            "Train Epoch: 1 [44800/60000 (75%)]\tLoss: 0.365777\n",
            "Train Epoch: 1 [48000/60000 (80%)]\tLoss: 0.303023\n",
            "Train Epoch: 1 [51200/60000 (85%)]\tLoss: 0.210557\n",
            "Train Epoch: 1 [54400/60000 (91%)]\tLoss: 0.256768\n",
            "Train Epoch: 1 [57600/60000 (96%)]\tLoss: 0.259765\n",
            "\n",
            "Test set: Average loss: 0.2112, Accuracy: 9386/10000 (94%)\n",
            "\n",
            "Train Epoch: 2 [0/60000 (0%)]\tLoss: 0.222452\n",
            "Train Epoch: 2 [3200/60000 (5%)]\tLoss: 0.108607\n",
            "Train Epoch: 2 [6400/60000 (11%)]\tLoss: 0.322468\n",
            "Train Epoch: 2 [9600/60000 (16%)]\tLoss: 0.214190\n",
            "Train Epoch: 2 [12800/60000 (21%)]\tLoss: 0.163284\n",
            "Train Epoch: 2 [16000/60000 (27%)]\tLoss: 0.286588\n",
            "Train Epoch: 2 [19200/60000 (32%)]\tLoss: 0.159205\n",
            "Train Epoch: 2 [22400/60000 (37%)]\tLoss: 0.165281\n",
            "Train Epoch: 2 [25600/60000 (43%)]\tLoss: 0.084820\n",
            "Train Epoch: 2 [28800/60000 (48%)]\tLoss: 0.185609\n",
            "Train Epoch: 2 [32000/60000 (53%)]\tLoss: 0.074761\n",
            "Train Epoch: 2 [35200/60000 (59%)]\tLoss: 0.103726\n",
            "Train Epoch: 2 [38400/60000 (64%)]\tLoss: 0.172383\n",
            "Train Epoch: 2 [41600/60000 (69%)]\tLoss: 0.067723\n",
            "Train Epoch: 2 [44800/60000 (75%)]\tLoss: 0.100386\n",
            "Train Epoch: 2 [48000/60000 (80%)]\tLoss: 0.053278\n",
            "Train Epoch: 2 [51200/60000 (85%)]\tLoss: 0.077635\n",
            "Train Epoch: 2 [54400/60000 (91%)]\tLoss: 0.131421\n",
            "Train Epoch: 2 [57600/60000 (96%)]\tLoss: 0.173027\n",
            "\n",
            "Test set: Average loss: 0.1650, Accuracy: 9485/10000 (95%)\n",
            "\n",
            "Train Epoch: 3 [0/60000 (0%)]\tLoss: 0.111888\n",
            "Train Epoch: 3 [3200/60000 (5%)]\tLoss: 0.122024\n",
            "Train Epoch: 3 [6400/60000 (11%)]\tLoss: 0.224150\n",
            "Train Epoch: 3 [9600/60000 (16%)]\tLoss: 0.077034\n",
            "Train Epoch: 3 [12800/60000 (21%)]\tLoss: 0.061171\n",
            "Train Epoch: 3 [16000/60000 (27%)]\tLoss: 0.239354\n",
            "Train Epoch: 3 [19200/60000 (32%)]\tLoss: 0.065119\n",
            "Train Epoch: 3 [22400/60000 (37%)]\tLoss: 0.391545\n",
            "Train Epoch: 3 [25600/60000 (43%)]\tLoss: 0.211717\n",
            "Train Epoch: 3 [28800/60000 (48%)]\tLoss: 0.040417\n",
            "Train Epoch: 3 [32000/60000 (53%)]\tLoss: 0.103630\n",
            "Train Epoch: 3 [35200/60000 (59%)]\tLoss: 0.058260\n",
            "Train Epoch: 3 [38400/60000 (64%)]\tLoss: 0.059499\n",
            "Train Epoch: 3 [41600/60000 (69%)]\tLoss: 0.062860\n",
            "Train Epoch: 3 [44800/60000 (75%)]\tLoss: 0.246067\n",
            "Train Epoch: 3 [48000/60000 (80%)]\tLoss: 0.171646\n",
            "Train Epoch: 3 [51200/60000 (85%)]\tLoss: 0.115032\n",
            "Train Epoch: 3 [54400/60000 (91%)]\tLoss: 0.223160\n",
            "Train Epoch: 3 [57600/60000 (96%)]\tLoss: 0.243792\n",
            "\n",
            "Test set: Average loss: 0.1353, Accuracy: 9592/10000 (96%)\n",
            "\n"
          ]
        }
      ]
    },
    {
      "cell_type": "markdown",
      "metadata": {
        "id": "zB7vdvzvELA3"
      },
      "source": [
        "¡Hemos alcanzado un 96% de tasa de acierto sobre el conjunto de evaluación!"
      ]
    },
    {
      "cell_type": "code",
      "metadata": {
        "id": "kWNC5DBXmMMA"
      },
      "source": [
        ""
      ],
      "execution_count": null,
      "outputs": []
    },
    {
      "cell_type": "markdown",
      "metadata": {
        "id": "sgeKEfoWPJRK"
      },
      "source": [
        "## Introducción a redes convolucionales.\n",
        "\n",
        "Este tipo de redes sustituyen las capas lineales por capas donde se hace una convolución. Sigue siendo una operación lineal, pero ahora los pesos se comparten entre las distintas features/píxeles."
      ]
    },
    {
      "cell_type": "markdown",
      "metadata": {
        "id": "u3iHqcRBPD6H"
      },
      "source": [
        "![image.png](data:image/png;base64,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)"
      ]
    },
    {
      "cell_type": "markdown",
      "metadata": {
        "id": "GesIhllRELA3"
      },
      "source": [
        "**Ejercicio** Introducción a redes convolucionales. Completa el paso forward del siguiente modelo que utiliza dos capas convolucionales previamente:\n",
        "\n",
        "* Como activación no lineal utilza F.relu\n",
        "* Después de las capas convolucionales utiliza F.max_pool2d para hacer pooling.\n",
        "* Al pasar de las capas convolucionales a las lineas tendrás que aplanar a un vector como antes, o usando torch.flatten(x, 1)"
      ]
    },
    {
      "cell_type": "code",
      "metadata": {
        "id": "FdSXZWQrELA3"
      },
      "source": [
        "class Net(nn.Module):\n",
        "    def __init__(self):\n",
        "        super(Net, self).__init__()\n",
        "        self.conv1 = nn.Conv2d(1, 32, 3, 1)\n",
        "        self.conv2 = nn.Conv2d(32, 64, 3, 1)\n",
        "        self.fc1 = nn.LazyLinear(128)\n",
        "        self.fc2 = nn.LazyLinear(10)\n",
        "\n",
        "\n",
        "    def forward(self, x):\n",
        "        x = F.relu(self.conv1(x))\n",
        "        x = F.relu(self.conv2(x))\n",
        "        x = F.max_pool2d(x, kernel_size=(3,3))\n",
        "\n",
        "        x = torch.flatten(x, 1)\n",
        "        \n",
        "        x = F.relu(self.fc1(x))\n",
        "        x = self.fc2(x)\n",
        "        output = F.log_softmax(x, dim=1)\n",
        "        return output\n"
      ],
      "execution_count": 36,
      "outputs": []
    },
    {
      "cell_type": "markdown",
      "metadata": {
        "id": "8RGQhT7fELA3"
      },
      "source": [
        "¿Cuál es la tasa de acierto del modelo ahora?"
      ]
    },
    {
      "cell_type": "code",
      "metadata": {
        "id": "zmhAlyfmls3U",
        "colab": {
          "base_uri": "https://localhost:8080/"
        },
        "outputId": "cb7dd081-5585-4c7a-c12f-58a21585c76d"
      },
      "source": [
        "learning_rate = 0.01\n",
        "momentum = 0.5\n",
        "model = Net().to(device)\n",
        "optimizer = optim.SGD(model.parameters(), lr=learning_rate,\n",
        "                      momentum=momentum)"
      ],
      "execution_count": 37,
      "outputs": [
        {
          "output_type": "stream",
          "name": "stderr",
          "text": [
            "/usr/local/lib/python3.7/dist-packages/torch/nn/modules/lazy.py:178: UserWarning: Lazy modules are a new feature under heavy development so changes to the API or functionality can happen at any moment.\n",
            "  warnings.warn('Lazy modules are a new feature under heavy development '\n"
          ]
        }
      ]
    },
    {
      "cell_type": "code",
      "metadata": {
        "id": "xCkeLFU9ELA4",
        "colab": {
          "base_uri": "https://localhost:8080/"
        },
        "outputId": "276385d5-6387-4f05-eecc-f39f04720611"
      },
      "source": [
        "training_losses = []\n",
        "for epoch in range(1, epochs + 1):\n",
        "    train(model, device, train_loader, optimizer, epoch, training_losses)\n",
        "    test(model, device, test_loader)"
      ],
      "execution_count": 38,
      "outputs": [
        {
          "output_type": "stream",
          "name": "stdout",
          "text": [
            "Train Epoch: 1 [0/60000 (0%)]\tLoss: 2.291299\n",
            "Train Epoch: 1 [3200/60000 (5%)]\tLoss: 0.538866\n",
            "Train Epoch: 1 [6400/60000 (11%)]\tLoss: 0.258745\n",
            "Train Epoch: 1 [9600/60000 (16%)]\tLoss: 0.100316\n",
            "Train Epoch: 1 [12800/60000 (21%)]\tLoss: 0.339786\n",
            "Train Epoch: 1 [16000/60000 (27%)]\tLoss: 0.295962\n",
            "Train Epoch: 1 [19200/60000 (32%)]\tLoss: 0.167145\n",
            "Train Epoch: 1 [22400/60000 (37%)]\tLoss: 0.039560\n",
            "Train Epoch: 1 [25600/60000 (43%)]\tLoss: 0.071081\n",
            "Train Epoch: 1 [28800/60000 (48%)]\tLoss: 0.112411\n",
            "Train Epoch: 1 [32000/60000 (53%)]\tLoss: 0.159042\n",
            "Train Epoch: 1 [35200/60000 (59%)]\tLoss: 0.197125\n",
            "Train Epoch: 1 [38400/60000 (64%)]\tLoss: 0.036318\n",
            "Train Epoch: 1 [41600/60000 (69%)]\tLoss: 0.101389\n",
            "Train Epoch: 1 [44800/60000 (75%)]\tLoss: 0.090080\n",
            "Train Epoch: 1 [48000/60000 (80%)]\tLoss: 0.131015\n",
            "Train Epoch: 1 [51200/60000 (85%)]\tLoss: 0.018389\n",
            "Train Epoch: 1 [54400/60000 (91%)]\tLoss: 0.027199\n",
            "Train Epoch: 1 [57600/60000 (96%)]\tLoss: 0.126061\n",
            "\n",
            "Test set: Average loss: 0.1086, Accuracy: 9657/10000 (97%)\n",
            "\n",
            "Train Epoch: 2 [0/60000 (0%)]\tLoss: 0.169666\n",
            "Train Epoch: 2 [3200/60000 (5%)]\tLoss: 0.100515\n",
            "Train Epoch: 2 [6400/60000 (11%)]\tLoss: 0.064855\n",
            "Train Epoch: 2 [9600/60000 (16%)]\tLoss: 0.069224\n",
            "Train Epoch: 2 [12800/60000 (21%)]\tLoss: 0.068635\n",
            "Train Epoch: 2 [16000/60000 (27%)]\tLoss: 0.023428\n",
            "Train Epoch: 2 [19200/60000 (32%)]\tLoss: 0.023993\n",
            "Train Epoch: 2 [22400/60000 (37%)]\tLoss: 0.066396\n",
            "Train Epoch: 2 [25600/60000 (43%)]\tLoss: 0.036045\n",
            "Train Epoch: 2 [28800/60000 (48%)]\tLoss: 0.023582\n",
            "Train Epoch: 2 [32000/60000 (53%)]\tLoss: 0.016495\n",
            "Train Epoch: 2 [35200/60000 (59%)]\tLoss: 0.071609\n",
            "Train Epoch: 2 [38400/60000 (64%)]\tLoss: 0.020703\n",
            "Train Epoch: 2 [41600/60000 (69%)]\tLoss: 0.123638\n",
            "Train Epoch: 2 [44800/60000 (75%)]\tLoss: 0.070795\n",
            "Train Epoch: 2 [48000/60000 (80%)]\tLoss: 0.117157\n",
            "Train Epoch: 2 [51200/60000 (85%)]\tLoss: 0.016678\n",
            "Train Epoch: 2 [54400/60000 (91%)]\tLoss: 0.012191\n",
            "Train Epoch: 2 [57600/60000 (96%)]\tLoss: 0.004920\n",
            "\n",
            "Test set: Average loss: 0.0550, Accuracy: 9819/10000 (98%)\n",
            "\n",
            "Train Epoch: 3 [0/60000 (0%)]\tLoss: 0.004684\n",
            "Train Epoch: 3 [3200/60000 (5%)]\tLoss: 0.004188\n",
            "Train Epoch: 3 [6400/60000 (11%)]\tLoss: 0.004716\n",
            "Train Epoch: 3 [9600/60000 (16%)]\tLoss: 0.002785\n",
            "Train Epoch: 3 [12800/60000 (21%)]\tLoss: 0.006851\n",
            "Train Epoch: 3 [16000/60000 (27%)]\tLoss: 0.035381\n",
            "Train Epoch: 3 [19200/60000 (32%)]\tLoss: 0.086215\n",
            "Train Epoch: 3 [22400/60000 (37%)]\tLoss: 0.013261\n",
            "Train Epoch: 3 [25600/60000 (43%)]\tLoss: 0.036636\n",
            "Train Epoch: 3 [28800/60000 (48%)]\tLoss: 0.013051\n",
            "Train Epoch: 3 [32000/60000 (53%)]\tLoss: 0.021141\n",
            "Train Epoch: 3 [35200/60000 (59%)]\tLoss: 0.044529\n",
            "Train Epoch: 3 [38400/60000 (64%)]\tLoss: 0.006316\n",
            "Train Epoch: 3 [41600/60000 (69%)]\tLoss: 0.015566\n",
            "Train Epoch: 3 [44800/60000 (75%)]\tLoss: 0.048255\n",
            "Train Epoch: 3 [48000/60000 (80%)]\tLoss: 0.007251\n",
            "Train Epoch: 3 [51200/60000 (85%)]\tLoss: 0.021825\n",
            "Train Epoch: 3 [54400/60000 (91%)]\tLoss: 0.014113\n",
            "Train Epoch: 3 [57600/60000 (96%)]\tLoss: 0.121274\n",
            "\n",
            "Test set: Average loss: 0.0502, Accuracy: 9822/10000 (98%)\n",
            "\n"
          ]
        }
      ]
    },
    {
      "cell_type": "code",
      "metadata": {
        "id": "OmeRR5MLlxl1"
      },
      "source": [
        ""
      ],
      "execution_count": null,
      "outputs": []
    }
  ]
}